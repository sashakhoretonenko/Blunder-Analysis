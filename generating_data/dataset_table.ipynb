{
 "cells": [
  {
   "cell_type": "code",
   "execution_count": 1,
   "metadata": {},
   "outputs": [],
   "source": [
    "players_alias = [\n",
    "    'Tang',\n",
    "    'wizard98',\n",
    "    'nihalsarin2004',\n",
    "    'mishka_the_great',\n",
    "    'ediz_gurel',\n",
    "    'rebeccaharris',\n",
    "    'meneermandje',\n",
    "    'night-king96',\n",
    "    'muisback',\n",
    "    'vincentkeymer2004',\n",
    "    'zhigalko_sergei'\n",
    "]\n",
    "\n",
    "players_list = [\n",
    "    'Andrew Tang',\n",
    "    'S.L. Narayanan',\n",
    "    'Nihal Sarin',\n",
    "    'Mieszko Miś',\n",
    "    'Ediz Gurel',\n",
    "    'Daniel Naroditsky',\n",
    "    'Thomas Beerdsen',\n",
    "    'Oleksandr Bortnyk',\n",
    "    'Rauf Mamedov',\n",
    "    'Vincent Keymer',\n",
    "    'Sergei Zhigalko'\n",
    "]"
   ]
  },
  {
   "cell_type": "code",
   "execution_count": 4,
   "metadata": {
    "vscode": {
     "languageId": "ruby"
    }
   },
   "outputs": [],
   "source": [
    "import pandas as pd\n",
    "\n",
    "table = pd.DataFrame(index=['Games', 'Moves', 'Blunders'], columns=players_list)\n",
    "\n",
    "def get_file_length(file_path):\n",
    "    try:\n",
    "        data = pd.read_pickle(file_path)\n",
    "        return len(data)\n",
    "    except Exception as e:\n",
    "        print(f\"Error loading file {file_path}: {e}\")\n",
    "        return 0\n",
    "\n",
    "for alias, player in zip(players_alias, players_list):\n",
    "    games_file = f'../data/pkl/games/{alias}_games.pkl'\n",
    "    moves_file = f'../data/pkl/moves/{alias}_moves.pkl'\n",
    "    blunders_file = f'../data/pkl/blunders/{alias}_blunders.pkl'\n",
    "    \n",
    "    table.at['Games', player] = get_file_length(games_file)\n",
    "    table.at['Moves', player] = get_file_length(moves_file)\n",
    "    table.at['Blunders', player] = get_file_length(blunders_file)\n",
    "\n",
    "# Display the first few rows of the table\n",
    "table.head(3)\n",
    "\n",
    "# Save to excel file\n",
    "table.to_excel('../data/xlsx/dataset_stats.xlsx')"
   ]
  }
 ],
 "metadata": {
  "kernelspec": {
   "display_name": "cos333",
   "language": "python",
   "name": "python3"
  },
  "language_info": {
   "codemirror_mode": {
    "name": "ipython",
    "version": 3
   },
   "file_extension": ".py",
   "mimetype": "text/x-python",
   "name": "python",
   "nbconvert_exporter": "python",
   "pygments_lexer": "ipython3",
   "version": "3.12.6"
  }
 },
 "nbformat": 4,
 "nbformat_minor": 2
}
