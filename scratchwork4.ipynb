{
 "cells": [
  {
   "cell_type": "code",
   "execution_count": 2,
   "metadata": {},
   "outputs": [
    {
     "name": "stderr",
     "output_type": "stream",
     "text": [
      "100%|██████████| 1186/1186 [00:32<00:00, 36.38it/s]\n"
     ]
    },
    {
     "name": "stdout",
     "output_type": "stream",
     "text": [
      "New best model saved at epoch 1\n",
      "Epoch 1/30: Train Loss = 1.4022, Train Acc = 0.4057, Val Loss = 1.2854, Val Acc = 0.4509\n"
     ]
    },
    {
     "name": "stderr",
     "output_type": "stream",
     "text": [
      "100%|██████████| 1186/1186 [00:31<00:00, 37.17it/s]\n"
     ]
    },
    {
     "name": "stdout",
     "output_type": "stream",
     "text": [
      "New best model saved at epoch 2\n",
      "Epoch 2/30: Train Loss = 1.2464, Train Acc = 0.4643, Val Loss = 1.2444, Val Acc = 0.4616\n"
     ]
    },
    {
     "name": "stderr",
     "output_type": "stream",
     "text": [
      "100%|██████████| 1186/1186 [00:31<00:00, 37.08it/s]\n"
     ]
    },
    {
     "name": "stdout",
     "output_type": "stream",
     "text": [
      "New best model saved at epoch 3\n",
      "Epoch 3/30: Train Loss = 1.1976, Train Acc = 0.4829, Val Loss = 1.2206, Val Acc = 0.4687\n"
     ]
    },
    {
     "name": "stderr",
     "output_type": "stream",
     "text": [
      "100%|██████████| 1186/1186 [00:32<00:00, 36.71it/s]\n"
     ]
    },
    {
     "name": "stdout",
     "output_type": "stream",
     "text": [
      "New best model saved at epoch 4\n",
      "Epoch 4/30: Train Loss = 1.1686, Train Acc = 0.4963, Val Loss = 1.2187, Val Acc = 0.4740\n"
     ]
    },
    {
     "name": "stderr",
     "output_type": "stream",
     "text": [
      "100%|██████████| 1186/1186 [00:32<00:00, 36.47it/s]\n"
     ]
    },
    {
     "name": "stdout",
     "output_type": "stream",
     "text": [
      "New best model saved at epoch 5\n",
      "Epoch 5/30: Train Loss = 1.1487, Train Acc = 0.5058, Val Loss = 1.2183, Val Acc = 0.4723\n"
     ]
    },
    {
     "name": "stderr",
     "output_type": "stream",
     "text": [
      "100%|██████████| 1186/1186 [00:32<00:00, 36.56it/s]\n"
     ]
    },
    {
     "name": "stdout",
     "output_type": "stream",
     "text": [
      "New best model saved at epoch 6\n",
      "Epoch 6/30: Train Loss = 1.1318, Train Acc = 0.5138, Val Loss = 1.2123, Val Acc = 0.4816\n"
     ]
    },
    {
     "name": "stderr",
     "output_type": "stream",
     "text": [
      "100%|██████████| 1186/1186 [00:32<00:00, 36.38it/s]\n"
     ]
    },
    {
     "name": "stdout",
     "output_type": "stream",
     "text": [
      "New best model saved at epoch 7\n",
      "Epoch 7/30: Train Loss = 1.1173, Train Acc = 0.5205, Val Loss = 1.2149, Val Acc = 0.4802\n"
     ]
    },
    {
     "name": "stderr",
     "output_type": "stream",
     "text": [
      "100%|██████████| 1186/1186 [00:32<00:00, 36.44it/s]\n"
     ]
    },
    {
     "name": "stdout",
     "output_type": "stream",
     "text": [
      "New best model saved at epoch 8\n",
      "Epoch 8/30: Train Loss = 1.1046, Train Acc = 0.5261, Val Loss = 1.2112, Val Acc = 0.4841\n"
     ]
    },
    {
     "name": "stderr",
     "output_type": "stream",
     "text": [
      "100%|██████████| 1186/1186 [00:32<00:00, 36.46it/s]\n"
     ]
    },
    {
     "name": "stdout",
     "output_type": "stream",
     "text": [
      "New best model saved at epoch 9\n",
      "Epoch 9/30: Train Loss = 1.0928, Train Acc = 0.5315, Val Loss = 1.2231, Val Acc = 0.4799\n"
     ]
    },
    {
     "name": "stderr",
     "output_type": "stream",
     "text": [
      "100%|██████████| 1186/1186 [00:32<00:00, 36.54it/s]\n"
     ]
    },
    {
     "name": "stdout",
     "output_type": "stream",
     "text": [
      "New best model saved at epoch 10\n",
      "Epoch 10/30: Train Loss = 1.0826, Train Acc = 0.5367, Val Loss = 1.2249, Val Acc = 0.4791\n"
     ]
    },
    {
     "name": "stderr",
     "output_type": "stream",
     "text": [
      "100%|██████████| 1186/1186 [00:32<00:00, 36.90it/s]\n"
     ]
    },
    {
     "name": "stdout",
     "output_type": "stream",
     "text": [
      "New best model saved at epoch 11\n",
      "Epoch 11/30: Train Loss = 1.0725, Train Acc = 0.5423, Val Loss = 1.2334, Val Acc = 0.4838\n"
     ]
    },
    {
     "name": "stderr",
     "output_type": "stream",
     "text": [
      "100%|██████████| 1186/1186 [00:32<00:00, 36.90it/s]\n"
     ]
    },
    {
     "name": "stdout",
     "output_type": "stream",
     "text": [
      "New best model saved at epoch 12\n",
      "Epoch 12/30: Train Loss = 1.0636, Train Acc = 0.5463, Val Loss = 1.2311, Val Acc = 0.4837\n"
     ]
    },
    {
     "name": "stderr",
     "output_type": "stream",
     "text": [
      "100%|██████████| 1186/1186 [00:33<00:00, 35.85it/s]\n"
     ]
    },
    {
     "name": "stdout",
     "output_type": "stream",
     "text": [
      "New best model saved at epoch 13\n",
      "Epoch 13/30: Train Loss = 1.0552, Train Acc = 0.5501, Val Loss = 1.2417, Val Acc = 0.4816\n"
     ]
    },
    {
     "name": "stderr",
     "output_type": "stream",
     "text": [
      "100%|██████████| 1186/1186 [00:32<00:00, 36.47it/s]\n"
     ]
    },
    {
     "name": "stdout",
     "output_type": "stream",
     "text": [
      "New best model saved at epoch 14\n",
      "Epoch 14/30: Train Loss = 1.0469, Train Acc = 0.5540, Val Loss = 1.2420, Val Acc = 0.4833\n"
     ]
    },
    {
     "name": "stderr",
     "output_type": "stream",
     "text": [
      "100%|██████████| 1186/1186 [00:45<00:00, 26.00it/s]\n"
     ]
    },
    {
     "name": "stdout",
     "output_type": "stream",
     "text": [
      "New best model saved at epoch 15\n",
      "Epoch 15/30: Train Loss = 1.0394, Train Acc = 0.5569, Val Loss = 1.2470, Val Acc = 0.4800\n"
     ]
    },
    {
     "name": "stderr",
     "output_type": "stream",
     "text": [
      "100%|██████████| 1186/1186 [00:33<00:00, 35.77it/s]\n"
     ]
    },
    {
     "name": "stdout",
     "output_type": "stream",
     "text": [
      "New best model saved at epoch 16\n",
      "Epoch 16/30: Train Loss = 1.0329, Train Acc = 0.5610, Val Loss = 1.2587, Val Acc = 0.4792\n"
     ]
    },
    {
     "name": "stderr",
     "output_type": "stream",
     "text": [
      "100%|██████████| 1186/1186 [00:32<00:00, 36.39it/s]\n"
     ]
    },
    {
     "name": "stdout",
     "output_type": "stream",
     "text": [
      "New best model saved at epoch 17\n",
      "Epoch 17/30: Train Loss = 1.0260, Train Acc = 0.5629, Val Loss = 1.2601, Val Acc = 0.4790\n"
     ]
    },
    {
     "name": "stderr",
     "output_type": "stream",
     "text": [
      "100%|██████████| 1186/1186 [00:32<00:00, 36.15it/s]\n"
     ]
    },
    {
     "name": "stdout",
     "output_type": "stream",
     "text": [
      "New best model saved at epoch 18\n",
      "Epoch 18/30: Train Loss = 1.0199, Train Acc = 0.5663, Val Loss = 1.2701, Val Acc = 0.4790\n"
     ]
    },
    {
     "name": "stderr",
     "output_type": "stream",
     "text": [
      "100%|██████████| 1186/1186 [00:32<00:00, 36.30it/s]\n"
     ]
    },
    {
     "name": "stdout",
     "output_type": "stream",
     "text": [
      "New best model saved at epoch 19\n",
      "Epoch 19/30: Train Loss = 1.0135, Train Acc = 0.5697, Val Loss = 1.2717, Val Acc = 0.4814\n"
     ]
    },
    {
     "name": "stderr",
     "output_type": "stream",
     "text": [
      "100%|██████████| 1186/1186 [00:32<00:00, 36.14it/s]\n"
     ]
    },
    {
     "name": "stdout",
     "output_type": "stream",
     "text": [
      "New best model saved at epoch 20\n",
      "Epoch 20/30: Train Loss = 1.0075, Train Acc = 0.5714, Val Loss = 1.2811, Val Acc = 0.4775\n"
     ]
    },
    {
     "name": "stderr",
     "output_type": "stream",
     "text": [
      "100%|██████████| 1186/1186 [00:32<00:00, 36.69it/s]\n"
     ]
    },
    {
     "name": "stdout",
     "output_type": "stream",
     "text": [
      "New best model saved at epoch 21\n",
      "Epoch 21/30: Train Loss = 1.0021, Train Acc = 0.5750, Val Loss = 1.2896, Val Acc = 0.4816\n"
     ]
    },
    {
     "name": "stderr",
     "output_type": "stream",
     "text": [
      "100%|██████████| 1186/1186 [00:33<00:00, 35.67it/s]\n"
     ]
    },
    {
     "name": "stdout",
     "output_type": "stream",
     "text": [
      "New best model saved at epoch 22\n",
      "Epoch 22/30: Train Loss = 0.9967, Train Acc = 0.5772, Val Loss = 1.3056, Val Acc = 0.4780\n"
     ]
    },
    {
     "name": "stderr",
     "output_type": "stream",
     "text": [
      "100%|██████████| 1186/1186 [00:32<00:00, 36.16it/s]\n"
     ]
    },
    {
     "name": "stdout",
     "output_type": "stream",
     "text": [
      "New best model saved at epoch 23\n",
      "Epoch 23/30: Train Loss = 0.9916, Train Acc = 0.5794, Val Loss = 1.2977, Val Acc = 0.4786\n"
     ]
    },
    {
     "name": "stderr",
     "output_type": "stream",
     "text": [
      "100%|██████████| 1186/1186 [00:33<00:00, 35.64it/s]\n"
     ]
    },
    {
     "name": "stdout",
     "output_type": "stream",
     "text": [
      "New best model saved at epoch 24\n",
      "Epoch 24/30: Train Loss = 0.9868, Train Acc = 0.5815, Val Loss = 1.3184, Val Acc = 0.4773\n"
     ]
    },
    {
     "name": "stderr",
     "output_type": "stream",
     "text": [
      "100%|██████████| 1186/1186 [00:32<00:00, 36.49it/s]\n"
     ]
    },
    {
     "name": "stdout",
     "output_type": "stream",
     "text": [
      "New best model saved at epoch 25\n",
      "Epoch 25/30: Train Loss = 0.9819, Train Acc = 0.5835, Val Loss = 1.3147, Val Acc = 0.4795\n"
     ]
    },
    {
     "name": "stderr",
     "output_type": "stream",
     "text": [
      "100%|██████████| 1186/1186 [00:33<00:00, 35.26it/s]\n"
     ]
    },
    {
     "name": "stdout",
     "output_type": "stream",
     "text": [
      "New best model saved at epoch 26\n",
      "Epoch 26/30: Train Loss = 0.9773, Train Acc = 0.5862, Val Loss = 1.3162, Val Acc = 0.4784\n"
     ]
    },
    {
     "name": "stderr",
     "output_type": "stream",
     "text": [
      "100%|██████████| 1186/1186 [00:33<00:00, 35.81it/s]\n"
     ]
    },
    {
     "name": "stdout",
     "output_type": "stream",
     "text": [
      "New best model saved at epoch 27\n",
      "Epoch 27/30: Train Loss = 0.9733, Train Acc = 0.5877, Val Loss = 1.3235, Val Acc = 0.4796\n"
     ]
    },
    {
     "name": "stderr",
     "output_type": "stream",
     "text": [
      "100%|██████████| 1186/1186 [00:33<00:00, 35.47it/s]\n"
     ]
    },
    {
     "name": "stdout",
     "output_type": "stream",
     "text": [
      "New best model saved at epoch 28\n",
      "Epoch 28/30: Train Loss = 0.9692, Train Acc = 0.5896, Val Loss = 1.3313, Val Acc = 0.4797\n"
     ]
    },
    {
     "name": "stderr",
     "output_type": "stream",
     "text": [
      "100%|██████████| 1186/1186 [00:33<00:00, 35.05it/s]\n"
     ]
    },
    {
     "name": "stdout",
     "output_type": "stream",
     "text": [
      "New best model saved at epoch 29\n",
      "Epoch 29/30: Train Loss = 0.9650, Train Acc = 0.5921, Val Loss = 1.3343, Val Acc = 0.4790\n"
     ]
    },
    {
     "name": "stderr",
     "output_type": "stream",
     "text": [
      "100%|██████████| 1186/1186 [00:33<00:00, 35.25it/s]\n"
     ]
    },
    {
     "name": "stdout",
     "output_type": "stream",
     "text": [
      "New best model saved at epoch 30\n",
      "Epoch 30/30: Train Loss = 0.9614, Train Acc = 0.5933, Val Loss = 1.3435, Val Acc = 0.4807\n",
      "\n",
      "Training completed! Best Validation Accuracy: 0.4841\n",
      "\n",
      "The best model is the final model.\n"
     ]
    }
   ],
   "source": [
    "from generating_data.generate_loaders import (\n",
    "    create_Tang_multi_loaders,\n",
    "    create_GM_test_multi_loaders\n",
    "    )\n",
    "from models.MLPs import flexMLP\n",
    "from models.multiClassTrainer import multiTrainer\n",
    "\n",
    "Tang_train_loader, Tang_val_loader, Tang_test_loader = create_Tang_multi_loaders('data/pkl/moves/Tang_moves.pkl')\n",
    "model =flexMLP(hidden_sizes=[128,64,32], num_affine_layers=3)\n",
    "trainer = multiTrainer(net=model, train_loader=Tang_train_loader, val_loader=Tang_val_loader)\n",
    "\n",
    "import torch.nn as nn\n",
    "completed_model, best_model, train_losses, val_losses, train_acc, val_acc = trainer.train(\n",
    "    optim_name='adamw',\n",
    "    loss_function=nn.CrossEntropyLoss(),\n",
    "    num_epochs=30,\n",
    "    learning_rate=0.005,\n",
    "    momentum=0.99,\n",
    "    verbose=True\n",
    ")"
   ]
  },
  {
   "cell_type": "code",
   "execution_count": null,
   "metadata": {},
   "outputs": [],
   "source": [
    "from testing.testingFunctions import evaluate_per_piece_metrics\n",
    "import torch\n",
    "\n",
    "device = torch.device(\"mps\" if torch.backends.mps.is_available() else \"cpu\")\n",
    "\n",
    "train_name = 'Tang moves'\n",
    "test_name = 'Tang moves'\n",
    "\n",
    "df_metrics = evaluate_per_piece_metrics(best_model, Tang_test_loader, 'Tang', device, train_name=train_name, test_name=test_name, model_name='MLP')"
   ]
  },
  {
   "cell_type": "code",
   "execution_count": 8,
   "metadata": {},
   "outputs": [
    {
     "name": "stderr",
     "output_type": "stream",
     "text": [
      "100%|██████████| 255/255 [00:22<00:00, 11.27it/s]\n",
      "/Users/sasha/Desktop/Fall 2024/COS Junior IW/Blunder-Analysis/testing/testingFunctions.py:66: UserWarning: Creating a tensor from a list of numpy.ndarrays is extremely slow. Please consider converting the list to a single numpy.ndarray with numpy.array() before converting to a tensor. (Triggered internally at /Users/runner/work/pytorch/pytorch/pytorch/torch/csrc/utils/tensor_new.cpp:281.)\n",
      "  torch.tensor(all_probs),\n"
     ]
    },
    {
     "name": "stdout",
     "output_type": "stream",
     "text": [
      "K: Accuracy: 0.4383 | Brier Score: 0.0904 | Cross-Entropy Loss: 1.5697\n",
      "Q: Accuracy: 0.4554 | Brier Score: 0.0869 | Cross-Entropy Loss: 1.5697\n",
      "R: Accuracy: 0.4801 | Brier Score: 0.1122 | Cross-Entropy Loss: 1.5697\n",
      "B: Accuracy: 0.4177 | Brier Score: 0.1033 | Cross-Entropy Loss: 1.5697\n",
      "N: Accuracy: 0.5170 | Brier Score: 0.1028 | Cross-Entropy Loss: 1.5697\n",
      "P: Accuracy: 0.5320 | Brier Score: 0.1480 | Cross-Entropy Loss: 1.5697\n",
      "\n",
      "Total Accuracy: 0.4816\n",
      "Weighted Accuracy: 0.4816\n"
     ]
    },
    {
     "data": {
      "image/png": "[encoded data removed]",
      "text/plain": [
       "<Figure size 1200x600 with 1 Axes>"
      ]
     },
     "metadata": {},
     "output_type": "display_data"
    },
    {
     "name": "stdout",
     "output_type": "stream",
     "text": [
      "\n",
      "Overall Metrics Summary:\n",
      "  Piece Type  Accuracy  ...  Normalized Brier Score  Number of Samples\n",
      "0          K  0.438283  ...                4.017032               8782\n",
      "1          Q  0.455440  ...                4.118123               8236\n",
      "2          R  0.480140  ...                4.151924              10549\n",
      "3          B  0.417710  ...                4.138388               9746\n",
      "4          N  0.516952  ...                3.739110              10736\n",
      "5          P  0.531977  ...                3.396179              17012\n",
      "\n",
      "[6 rows x 7 columns]\n"
     ]
    }
   ],
   "source": [
    "from testing.testingFunctions import evaluate_per_piece_metrics\n",
    "import torch\n",
    "\n",
    "device = torch.device(\"mps\" if torch.backends.mps.is_available() else \"cpu\")\n",
    "\n",
    "train_name = 'Tang moves'\n",
    "test_name = 'Tang moves'\n",
    "\n",
    "df_metrics = evaluate_per_piece_metrics(model, Tang_test_loader, 'Tang', device, train_name=train_name, test_name=test_name, model_name='MLP')"
   ]
  },
  {
   "cell_type": "code",
   "execution_count": null,
   "metadata": {},
   "outputs": [],
   "source": [
    "# save model\n",
    "model_name = 'MLPmodel.pt'\n",
    "torch.save(best_model.state_dict(), model_name)"
   ]
  }
 ],
 "metadata": {
  "kernelspec": {
   "display_name": "cos333",
   "language": "python",
   "name": "python3"
  },
  "language_info": {
   "codemirror_mode": {
    "name": "ipython",
    "version": 3
   },
   "file_extension": ".py",
   "mimetype": "text/x-python",
   "name": "python",
   "nbconvert_exporter": "python",
   "pygments_lexer": "ipython3",
   "version": "3.12.6"
  }
 },
 "nbformat": 4,
 "nbformat_minor": 2
}
