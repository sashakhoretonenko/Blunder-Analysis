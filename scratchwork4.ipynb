{
 "cells": [
  {
   "cell_type": "code",
   "execution_count": 1,
   "metadata": {},
   "outputs": [
    {
     "name": "stderr",
     "output_type": "stream",
     "text": [
      "100%|██████████| 5/5 [00:00<00:00, 10.21it/s]\n"
     ]
    },
    {
     "name": "stdout",
     "output_type": "stream",
     "text": [
      "New best model saved at epoch 1\n",
      "Epoch 1/10: Train Loss = 1.7735, Train Acc = 0.2548, Val Loss = 1.6965, Val Acc = 0.2852\n"
     ]
    },
    {
     "name": "stderr",
     "output_type": "stream",
     "text": [
      "100%|██████████| 5/5 [00:00<00:00, 23.69it/s]\n"
     ]
    },
    {
     "name": "stdout",
     "output_type": "stream",
     "text": [
      "New best model saved at epoch 2\n",
      "Epoch 2/10: Train Loss = 1.6332, Train Acc = 0.2531, Val Loss = 1.6632, Val Acc = 0.2695\n"
     ]
    },
    {
     "name": "stderr",
     "output_type": "stream",
     "text": [
      "100%|██████████| 5/5 [00:00<00:00, 18.84it/s]\n"
     ]
    },
    {
     "name": "stdout",
     "output_type": "stream",
     "text": [
      "New best model saved at epoch 3\n",
      "Epoch 3/10: Train Loss = 1.6196, Train Acc = 0.2816, Val Loss = 1.6198, Val Acc = 0.3125\n"
     ]
    },
    {
     "name": "stderr",
     "output_type": "stream",
     "text": [
      "100%|██████████| 5/5 [00:00<00:00, 27.75it/s]\n"
     ]
    },
    {
     "name": "stdout",
     "output_type": "stream",
     "text": [
      "New best model saved at epoch 4\n",
      "Epoch 4/10: Train Loss = 1.6116, Train Acc = 0.3177, Val Loss = 1.6195, Val Acc = 0.2578\n"
     ]
    },
    {
     "name": "stderr",
     "output_type": "stream",
     "text": [
      "100%|██████████| 5/5 [00:00<00:00, 25.20it/s]\n"
     ]
    },
    {
     "name": "stdout",
     "output_type": "stream",
     "text": [
      "New best model saved at epoch 5\n",
      "Epoch 5/10: Train Loss = 1.5951, Train Acc = 0.2800, Val Loss = 1.6147, Val Acc = 0.2578\n"
     ]
    },
    {
     "name": "stderr",
     "output_type": "stream",
     "text": [
      "100%|██████████| 5/5 [00:00<00:00, 17.41it/s]\n"
     ]
    },
    {
     "name": "stdout",
     "output_type": "stream",
     "text": [
      "New best model saved at epoch 6\n",
      "Epoch 6/10: Train Loss = 1.5929, Train Acc = 0.3060, Val Loss = 1.6016, Val Acc = 0.3398\n"
     ]
    },
    {
     "name": "stderr",
     "output_type": "stream",
     "text": [
      "100%|██████████| 5/5 [00:00<00:00, 27.65it/s]\n"
     ]
    },
    {
     "name": "stdout",
     "output_type": "stream",
     "text": [
      "New best model saved at epoch 7\n",
      "Epoch 7/10: Train Loss = 1.5844, Train Acc = 0.3638, Val Loss = 1.5925, Val Acc = 0.2930\n"
     ]
    },
    {
     "name": "stderr",
     "output_type": "stream",
     "text": [
      "100%|██████████| 5/5 [00:00<00:00, 26.06it/s]\n"
     ]
    },
    {
     "name": "stdout",
     "output_type": "stream",
     "text": [
      "New best model saved at epoch 8\n",
      "Epoch 8/10: Train Loss = 1.5635, Train Acc = 0.3403, Val Loss = 1.5846, Val Acc = 0.2891\n"
     ]
    },
    {
     "name": "stderr",
     "output_type": "stream",
     "text": [
      "100%|██████████| 5/5 [00:00<00:00, 25.58it/s]\n"
     ]
    },
    {
     "name": "stdout",
     "output_type": "stream",
     "text": [
      "New best model saved at epoch 9\n",
      "Epoch 9/10: Train Loss = 1.5568, Train Acc = 0.3470, Val Loss = 1.5640, Val Acc = 0.3594\n"
     ]
    },
    {
     "name": "stderr",
     "output_type": "stream",
     "text": [
      "100%|██████████| 5/5 [00:00<00:00, 21.52it/s]\n"
     ]
    },
    {
     "name": "stdout",
     "output_type": "stream",
     "text": [
      "New best model saved at epoch 10\n",
      "Epoch 10/10: Train Loss = 1.5391, Train Acc = 0.3495, Val Loss = 1.5504, Val Acc = 0.3594\n",
      "\n",
      "Training completed! Best Validation Accuracy: 0.3594\n",
      "\n",
      "The best model is the final model.\n"
     ]
    }
   ],
   "source": [
    "from generating_data.generate_loaders import (\n",
    "    create_Tang_multi_loaders,\n",
    "    create_GM_test_multi_loaders\n",
    "    )\n",
    "from models.CNNs import flexCNN\n",
    "from models.multi_class_trainer import multiTrainer\n",
    "\n",
    "Tang_train_loader, Tang_val_loader, Tang_test_loader = create_Tang_multi_loaders('data/move_splits_pkl/opening_blunders/Tang_opening_blunders.pkl')\n",
    "model =flexCNN(conv_layers=3, aff_layers=2, kernel_sizes=[3,3,3])\n",
    "trainer = multiTrainer(net=model, train_loader=Tang_train_loader, val_loader=Tang_val_loader)\n",
    "\n",
    "import torch.nn as nn\n",
    "completed_model, best_model, train_losses, val_losses, train_acc, val_acc = trainer.train(\n",
    "    optim_name='adamw',\n",
    "    loss_function=nn.CrossEntropyLoss(),\n",
    "    num_epochs=10,\n",
    "    learning_rate=0.001,\n",
    "    momentum=0.9,\n",
    "    step_size=5,\n",
    "    learning_rate_decay=0.9,\n",
    "    acc_frequency=1,\n",
    "    verbose=True\n",
    ")"
   ]
  }
 ],
 "metadata": {
  "kernelspec": {
   "display_name": "cos333",
   "language": "python",
   "name": "python3"
  },
  "language_info": {
   "codemirror_mode": {
    "name": "ipython",
    "version": 3
   },
   "file_extension": ".py",
   "mimetype": "text/x-python",
   "name": "python",
   "nbconvert_exporter": "python",
   "pygments_lexer": "ipython3",
   "version": "3.12.6"
  }
 },
 "nbformat": 4,
 "nbformat_minor": 2
}
