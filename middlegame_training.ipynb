{
 "cells": [
  {
   "cell_type": "code",
   "execution_count": null,
   "metadata": {},
   "outputs": [
    {
     "name": "stderr",
     "output_type": "stream",
     "text": [
      "100%|██████████| 472/472 [00:20<00:00, 23.29it/s]\n"
     ]
    },
    {
     "name": "stdout",
     "output_type": "stream",
     "text": [
      "New best model saved at epoch 1\n",
      "Epoch 1/30: Train Loss = 1.6287, Train Acc = 0.2964, Val Loss = 1.5698, Val Acc = 0.3382\n"
     ]
    },
    {
     "name": "stderr",
     "output_type": "stream",
     "text": [
      "100%|██████████| 472/472 [00:18<00:00, 26.03it/s]\n"
     ]
    },
    {
     "name": "stdout",
     "output_type": "stream",
     "text": [
      "New best model saved at epoch 2\n",
      "Epoch 2/30: Train Loss = 1.5242, Train Acc = 0.3670, Val Loss = 1.5285, Val Acc = 0.3658\n"
     ]
    },
    {
     "name": "stderr",
     "output_type": "stream",
     "text": [
      "100%|██████████| 472/472 [00:15<00:00, 31.00it/s]\n"
     ]
    },
    {
     "name": "stdout",
     "output_type": "stream",
     "text": [
      "New best model saved at epoch 3\n",
      "Epoch 3/30: Train Loss = 1.4737, Train Acc = 0.3960, Val Loss = 1.4891, Val Acc = 0.3908\n"
     ]
    },
    {
     "name": "stderr",
     "output_type": "stream",
     "text": [
      "100%|██████████| 472/472 [00:16<00:00, 28.66it/s]\n"
     ]
    },
    {
     "name": "stdout",
     "output_type": "stream",
     "text": [
      "New best model saved at epoch 4\n",
      "Epoch 4/30: Train Loss = 1.4367, Train Acc = 0.4174, Val Loss = 1.4705, Val Acc = 0.4008\n"
     ]
    },
    {
     "name": "stderr",
     "output_type": "stream",
     "text": [
      "100%|██████████| 472/472 [00:16<00:00, 27.83it/s]\n"
     ]
    },
    {
     "name": "stdout",
     "output_type": "stream",
     "text": [
      "New best model saved at epoch 5\n",
      "Epoch 5/30: Train Loss = 1.4125, Train Acc = 0.4303, Val Loss = 1.4620, Val Acc = 0.4078\n"
     ]
    },
    {
     "name": "stderr",
     "output_type": "stream",
     "text": [
      "100%|██████████| 472/472 [00:18<00:00, 25.24it/s]\n"
     ]
    },
    {
     "name": "stdout",
     "output_type": "stream",
     "text": [
      "New best model saved at epoch 6\n",
      "Epoch 6/30: Train Loss = 1.3918, Train Acc = 0.4414, Val Loss = 1.4543, Val Acc = 0.4114\n"
     ]
    },
    {
     "name": "stderr",
     "output_type": "stream",
     "text": [
      "100%|██████████| 472/472 [00:18<00:00, 25.20it/s]\n"
     ]
    },
    {
     "name": "stdout",
     "output_type": "stream",
     "text": [
      "New best model saved at epoch 7\n",
      "Epoch 7/30: Train Loss = 1.3774, Train Acc = 0.4471, Val Loss = 1.4509, Val Acc = 0.4150\n"
     ]
    },
    {
     "name": "stderr",
     "output_type": "stream",
     "text": [
      "100%|██████████| 472/472 [00:17<00:00, 26.67it/s]\n"
     ]
    },
    {
     "name": "stdout",
     "output_type": "stream",
     "text": [
      "New best model saved at epoch 8\n",
      "Epoch 8/30: Train Loss = 1.3618, Train Acc = 0.4563, Val Loss = 1.4529, Val Acc = 0.4145\n"
     ]
    },
    {
     "name": "stderr",
     "output_type": "stream",
     "text": [
      "100%|██████████| 472/472 [00:15<00:00, 30.07it/s]\n"
     ]
    },
    {
     "name": "stdout",
     "output_type": "stream",
     "text": [
      "New best model saved at epoch 9\n",
      "Epoch 9/30: Train Loss = 1.3486, Train Acc = 0.4610, Val Loss = 1.4505, Val Acc = 0.4163\n"
     ]
    },
    {
     "name": "stderr",
     "output_type": "stream",
     "text": [
      "100%|██████████| 472/472 [00:15<00:00, 30.52it/s]\n"
     ]
    },
    {
     "name": "stdout",
     "output_type": "stream",
     "text": [
      "New best model saved at epoch 10\n",
      "Epoch 10/30: Train Loss = 1.3387, Train Acc = 0.4662, Val Loss = 1.4504, Val Acc = 0.4150\n"
     ]
    },
    {
     "name": "stderr",
     "output_type": "stream",
     "text": [
      "  1%|▏         | 7/472 [00:00<00:14, 31.04it/s]"
     ]
    }
   ],
   "source": [
    "from generating_data.generate_loaders import (\n",
    "    create_Tang_multi_loaders,\n",
    "    create_GM_test_multi_loaders\n",
    "    )\n",
    "from models.CNNs import flexCNN\n",
    "from models.multiClassTrainer import multiTrainer\n",
    "\n",
    "Tang_train_loader, Tang_val_loader, Tang_test_loader = create_Tang_multi_loaders('data/move_splits_pkl/middle_moves/Tang_middle_moves.pkl')\n",
    "opening_model =flexCNN(conv_layers=2, aff_layers=1, kernel_sizes=[3,3])\n",
    "trainer = multiTrainer(net=opening_model, train_loader=Tang_train_loader, val_loader=Tang_val_loader)\n",
    "\n",
    "import torch.nn as nn\n",
    "completed_model, best_model, train_losses, val_losses, train_acc, val_acc = trainer.train(\n",
    "    optim_name='adamw',\n",
    "    loss_function=nn.CrossEntropyLoss(),\n",
    "    num_epochs=30,\n",
    "    learning_rate=0.005,\n",
    "    momentum=0.99,\n",
    "    acc_frequency=1,\n",
    "    verbose=True\n",
    ")"
   ]
  },
  {
   "cell_type": "code",
   "execution_count": null,
   "metadata": {},
   "outputs": [],
   "source": [
    "from testing.testingFunctions import evaluate_per_piece_metrics\n",
    "import torch\n",
    "\n",
    "device = torch.device(\"mps\" if torch.backends.mps.is_available() else \"cpu\")\n",
    "df_metrics = evaluate_per_piece_metrics(opening_model, Tang_test_loader, 'Tang', device, train_name='Tang middlegame moves', test_name='Tang middlegame moves', model_name='CNN')"
   ]
  },
  {
   "cell_type": "code",
   "execution_count": null,
   "metadata": {},
   "outputs": [],
   "source": [
    "players_alias = [\n",
    "    'wizard98',\n",
    "    'nihalsarin2004',\n",
    "    'mishka_the_great',\n",
    "    'ediz_gurel',\n",
    "    'rebeccaharris',\n",
    "    'meneermandje',\n",
    "    'night-king96',\n",
    "    'muisback',\n",
    "    'vincentkeymer2004',\n",
    "    'zhigalko_sergei'\n",
    "]\n",
    "\n",
    "players_list = [\n",
    "    'S.L. Narayanan',\n",
    "    'Nihal Sarin',\n",
    "    'Mieszko Miś',\n",
    "    'Ediz Gurel',\n",
    "    'Daniel Naroditsky',\n",
    "    'Thomas Beerdsen',\n",
    "    'Oleksandr Bortnyk',\n",
    "    'Rauf Mamedov',\n",
    "    'Vincent Keymer',\n",
    "    'Sergei Zhigalko'\n",
    "    ]\n",
    "\n",
    "for alias, player in zip(players_alias, players_list):\n",
    "    GM_test_loader = create_GM_test_multi_loaders(f'data/move_splits_pkl/middle_moves/{alias}_middle_moves.pkl')\n",
    "\n",
    "    train_name = f'Tang middlegame moves'\n",
    "    test_name = f'{player} middlegame moves'\n",
    "\n",
    "    df_metrics = evaluate_per_piece_metrics(opening_model, GM_test_loader, player, device, train_name=train_name, test_name=test_name, model_name='CNN')"
   ]
  }
 ],
 "metadata": {
  "kernelspec": {
   "display_name": "cos333",
   "language": "python",
   "name": "python3"
  },
  "language_info": {
   "codemirror_mode": {
    "name": "ipython",
    "version": 3
   },
   "file_extension": ".py",
   "mimetype": "text/x-python",
   "name": "python",
   "nbconvert_exporter": "python",
   "pygments_lexer": "ipython3",
   "version": "3.12.6"
  }
 },
 "nbformat": 4,
 "nbformat_minor": 2
}
