{
 "cells": [
  {
   "cell_type": "code",
   "execution_count": 4,
   "metadata": {},
   "outputs": [
    {
     "name": "stderr",
     "output_type": "stream",
     "text": [
      "100%|██████████| 65/65 [00:01<00:00, 35.79it/s]\n"
     ]
    },
    {
     "name": "stdout",
     "output_type": "stream",
     "text": [
      "New best model saved at epoch 1\n",
      "Epoch 1/30: Train Loss = 1.7086, Train Acc = 0.2549, Val Loss = 1.6788, Val Acc = 0.2753\n"
     ]
    },
    {
     "name": "stderr",
     "output_type": "stream",
     "text": [
      "100%|██████████| 65/65 [00:02<00:00, 26.41it/s]\n"
     ]
    },
    {
     "name": "stdout",
     "output_type": "stream",
     "text": [
      "New best model saved at epoch 2\n",
      "Epoch 2/30: Train Loss = 1.6064, Train Acc = 0.3229, Val Loss = 1.6511, Val Acc = 0.3001\n"
     ]
    },
    {
     "name": "stderr",
     "output_type": "stream",
     "text": [
      "100%|██████████| 65/65 [00:02<00:00, 31.77it/s]\n"
     ]
    },
    {
     "name": "stdout",
     "output_type": "stream",
     "text": [
      "New best model saved at epoch 3\n",
      "Epoch 3/30: Train Loss = 1.4891, Train Acc = 0.3913, Val Loss = 1.6832, Val Acc = 0.2908\n"
     ]
    },
    {
     "name": "stderr",
     "output_type": "stream",
     "text": [
      "100%|██████████| 65/65 [00:02<00:00, 30.37it/s]\n"
     ]
    },
    {
     "name": "stdout",
     "output_type": "stream",
     "text": [
      "New best model saved at epoch 4\n",
      "Epoch 4/30: Train Loss = 1.3324, Train Acc = 0.4696, Val Loss = 1.7275, Val Acc = 0.3004\n"
     ]
    },
    {
     "name": "stderr",
     "output_type": "stream",
     "text": [
      "100%|██████████| 65/65 [00:02<00:00, 27.27it/s]\n"
     ]
    },
    {
     "name": "stdout",
     "output_type": "stream",
     "text": [
      "New best model saved at epoch 5\n",
      "Epoch 5/30: Train Loss = 1.1576, Train Acc = 0.5505, Val Loss = 1.8366, Val Acc = 0.2970\n"
     ]
    },
    {
     "name": "stderr",
     "output_type": "stream",
     "text": [
      "100%|██████████| 65/65 [00:01<00:00, 35.79it/s]\n"
     ]
    },
    {
     "name": "stdout",
     "output_type": "stream",
     "text": [
      "New best model saved at epoch 6\n",
      "Epoch 6/30: Train Loss = 0.9775, Train Acc = 0.6296, Val Loss = 2.0621, Val Acc = 0.3015\n"
     ]
    },
    {
     "name": "stderr",
     "output_type": "stream",
     "text": [
      "100%|██████████| 65/65 [00:01<00:00, 37.09it/s]\n"
     ]
    },
    {
     "name": "stdout",
     "output_type": "stream",
     "text": [
      "New best model saved at epoch 7\n",
      "Epoch 7/30: Train Loss = 0.8208, Train Acc = 0.6950, Val Loss = 2.2818, Val Acc = 0.3015\n"
     ]
    },
    {
     "name": "stderr",
     "output_type": "stream",
     "text": [
      "100%|██████████| 65/65 [00:01<00:00, 36.74it/s]\n"
     ]
    },
    {
     "name": "stdout",
     "output_type": "stream",
     "text": [
      "New best model saved at epoch 8\n",
      "Epoch 8/30: Train Loss = 0.6863, Train Acc = 0.7488, Val Loss = 2.5171, Val Acc = 0.3015\n"
     ]
    },
    {
     "name": "stderr",
     "output_type": "stream",
     "text": [
      "100%|██████████| 65/65 [00:01<00:00, 35.72it/s]\n"
     ]
    },
    {
     "name": "stdout",
     "output_type": "stream",
     "text": [
      "New best model saved at epoch 9\n",
      "Epoch 9/30: Train Loss = 0.5644, Train Acc = 0.7977, Val Loss = 2.8498, Val Acc = 0.2911\n"
     ]
    },
    {
     "name": "stderr",
     "output_type": "stream",
     "text": [
      "100%|██████████| 65/65 [00:02<00:00, 31.86it/s]\n"
     ]
    },
    {
     "name": "stdout",
     "output_type": "stream",
     "text": [
      "New best model saved at epoch 10\n",
      "Epoch 10/30: Train Loss = 0.4628, Train Acc = 0.8375, Val Loss = 3.1407, Val Acc = 0.3007\n"
     ]
    },
    {
     "name": "stderr",
     "output_type": "stream",
     "text": [
      "100%|██████████| 65/65 [00:01<00:00, 36.16it/s]\n"
     ]
    },
    {
     "name": "stdout",
     "output_type": "stream",
     "text": [
      "New best model saved at epoch 11\n",
      "Epoch 11/30: Train Loss = 0.3644, Train Acc = 0.8807, Val Loss = 3.5331, Val Acc = 0.2959\n"
     ]
    },
    {
     "name": "stderr",
     "output_type": "stream",
     "text": [
      "100%|██████████| 65/65 [00:01<00:00, 36.72it/s]\n"
     ]
    },
    {
     "name": "stdout",
     "output_type": "stream",
     "text": [
      "New best model saved at epoch 12\n",
      "Epoch 12/30: Train Loss = 0.2991, Train Acc = 0.9049, Val Loss = 3.8083, Val Acc = 0.2990\n"
     ]
    },
    {
     "name": "stderr",
     "output_type": "stream",
     "text": [
      "100%|██████████| 65/65 [00:01<00:00, 37.05it/s]\n"
     ]
    },
    {
     "name": "stdout",
     "output_type": "stream",
     "text": [
      "New best model saved at epoch 13\n",
      "Epoch 13/30: Train Loss = 0.2386, Train Acc = 0.9266, Val Loss = 4.1040, Val Acc = 0.2931\n"
     ]
    },
    {
     "name": "stderr",
     "output_type": "stream",
     "text": [
      "100%|██████████| 65/65 [00:01<00:00, 37.06it/s]\n"
     ]
    },
    {
     "name": "stdout",
     "output_type": "stream",
     "text": [
      "New best model saved at epoch 14\n",
      "Epoch 14/30: Train Loss = 0.1936, Train Acc = 0.9454, Val Loss = 4.4241, Val Acc = 0.2905\n"
     ]
    },
    {
     "name": "stderr",
     "output_type": "stream",
     "text": [
      "100%|██████████| 65/65 [00:01<00:00, 36.51it/s]\n"
     ]
    },
    {
     "name": "stdout",
     "output_type": "stream",
     "text": [
      "New best model saved at epoch 15\n",
      "Epoch 15/30: Train Loss = 0.1535, Train Acc = 0.9595, Val Loss = 4.6815, Val Acc = 0.2950\n"
     ]
    },
    {
     "name": "stderr",
     "output_type": "stream",
     "text": [
      "100%|██████████| 65/65 [00:01<00:00, 35.48it/s]\n"
     ]
    },
    {
     "name": "stdout",
     "output_type": "stream",
     "text": [
      "New best model saved at epoch 16\n",
      "Epoch 16/30: Train Loss = 0.1238, Train Acc = 0.9703, Val Loss = 4.9502, Val Acc = 0.2922\n"
     ]
    },
    {
     "name": "stderr",
     "output_type": "stream",
     "text": [
      "100%|██████████| 65/65 [00:01<00:00, 36.82it/s]\n"
     ]
    },
    {
     "name": "stdout",
     "output_type": "stream",
     "text": [
      "New best model saved at epoch 17\n",
      "Epoch 17/30: Train Loss = 0.0997, Train Acc = 0.9775, Val Loss = 5.2180, Val Acc = 0.2956\n"
     ]
    },
    {
     "name": "stderr",
     "output_type": "stream",
     "text": [
      "100%|██████████| 65/65 [00:01<00:00, 36.97it/s]\n"
     ]
    },
    {
     "name": "stdout",
     "output_type": "stream",
     "text": [
      "New best model saved at epoch 18\n",
      "Epoch 18/30: Train Loss = 0.0798, Train Acc = 0.9845, Val Loss = 5.4695, Val Acc = 0.2897\n"
     ]
    },
    {
     "name": "stderr",
     "output_type": "stream",
     "text": [
      "100%|██████████| 65/65 [00:01<00:00, 36.23it/s]\n"
     ]
    },
    {
     "name": "stdout",
     "output_type": "stream",
     "text": [
      "New best model saved at epoch 19\n",
      "Epoch 19/30: Train Loss = 0.0648, Train Acc = 0.9881, Val Loss = 5.6964, Val Acc = 0.2880\n"
     ]
    },
    {
     "name": "stderr",
     "output_type": "stream",
     "text": [
      "100%|██████████| 65/65 [00:01<00:00, 36.70it/s]\n"
     ]
    },
    {
     "name": "stdout",
     "output_type": "stream",
     "text": [
      "New best model saved at epoch 20\n",
      "Epoch 20/30: Train Loss = 0.0531, Train Acc = 0.9906, Val Loss = 5.8635, Val Acc = 0.2916\n"
     ]
    },
    {
     "name": "stderr",
     "output_type": "stream",
     "text": [
      "100%|██████████| 65/65 [00:01<00:00, 36.76it/s]\n"
     ]
    },
    {
     "name": "stdout",
     "output_type": "stream",
     "text": [
      "New best model saved at epoch 21\n",
      "Epoch 21/30: Train Loss = 0.0476, Train Acc = 0.9922, Val Loss = 6.0429, Val Acc = 0.2928\n"
     ]
    },
    {
     "name": "stderr",
     "output_type": "stream",
     "text": [
      "100%|██████████| 65/65 [00:01<00:00, 33.03it/s]\n"
     ]
    },
    {
     "name": "stdout",
     "output_type": "stream",
     "text": [
      "New best model saved at epoch 22\n",
      "Epoch 22/30: Train Loss = 0.0396, Train Acc = 0.9943, Val Loss = 6.2134, Val Acc = 0.2950\n"
     ]
    },
    {
     "name": "stderr",
     "output_type": "stream",
     "text": [
      "100%|██████████| 65/65 [00:01<00:00, 35.05it/s]\n"
     ]
    },
    {
     "name": "stdout",
     "output_type": "stream",
     "text": [
      "New best model saved at epoch 23\n",
      "Epoch 23/30: Train Loss = 0.0345, Train Acc = 0.9949, Val Loss = 6.3664, Val Acc = 0.2959\n"
     ]
    },
    {
     "name": "stderr",
     "output_type": "stream",
     "text": [
      "100%|██████████| 65/65 [00:01<00:00, 36.36it/s]\n"
     ]
    },
    {
     "name": "stdout",
     "output_type": "stream",
     "text": [
      "New best model saved at epoch 24\n",
      "Epoch 24/30: Train Loss = 0.0323, Train Acc = 0.9947, Val Loss = 6.4364, Val Acc = 0.2945\n"
     ]
    },
    {
     "name": "stderr",
     "output_type": "stream",
     "text": [
      "100%|██████████| 65/65 [00:01<00:00, 35.78it/s]\n"
     ]
    },
    {
     "name": "stdout",
     "output_type": "stream",
     "text": [
      "New best model saved at epoch 25\n",
      "Epoch 25/30: Train Loss = 0.0278, Train Acc = 0.9962, Val Loss = 6.5893, Val Acc = 0.2933\n"
     ]
    },
    {
     "name": "stderr",
     "output_type": "stream",
     "text": [
      "100%|██████████| 65/65 [00:01<00:00, 32.60it/s]\n"
     ]
    },
    {
     "name": "stdout",
     "output_type": "stream",
     "text": [
      "New best model saved at epoch 26\n",
      "Epoch 26/30: Train Loss = 0.0239, Train Acc = 0.9974, Val Loss = 6.6754, Val Acc = 0.2953\n"
     ]
    },
    {
     "name": "stderr",
     "output_type": "stream",
     "text": [
      "100%|██████████| 65/65 [00:02<00:00, 32.01it/s]\n"
     ]
    },
    {
     "name": "stdout",
     "output_type": "stream",
     "text": [
      "New best model saved at epoch 27\n",
      "Epoch 27/30: Train Loss = 0.0224, Train Acc = 0.9972, Val Loss = 6.7816, Val Acc = 0.2911\n"
     ]
    },
    {
     "name": "stderr",
     "output_type": "stream",
     "text": [
      "100%|██████████| 65/65 [00:02<00:00, 28.88it/s]\n"
     ]
    },
    {
     "name": "stdout",
     "output_type": "stream",
     "text": [
      "New best model saved at epoch 28\n",
      "Epoch 28/30: Train Loss = 0.0196, Train Acc = 0.9977, Val Loss = 6.8555, Val Acc = 0.2945\n"
     ]
    },
    {
     "name": "stderr",
     "output_type": "stream",
     "text": [
      "100%|██████████| 65/65 [00:01<00:00, 33.69it/s]\n"
     ]
    },
    {
     "name": "stdout",
     "output_type": "stream",
     "text": [
      "New best model saved at epoch 29\n",
      "Epoch 29/30: Train Loss = 0.0186, Train Acc = 0.9978, Val Loss = 6.9319, Val Acc = 0.2936\n"
     ]
    },
    {
     "name": "stderr",
     "output_type": "stream",
     "text": [
      "100%|██████████| 65/65 [00:01<00:00, 32.62it/s]\n"
     ]
    },
    {
     "name": "stdout",
     "output_type": "stream",
     "text": [
      "New best model saved at epoch 30\n",
      "Epoch 30/30: Train Loss = 0.0174, Train Acc = 0.9980, Val Loss = 7.0258, Val Acc = 0.2931\n",
      "\n",
      "Training completed! Best Validation Accuracy: 0.3015\n",
      "\n",
      "The best model is the final model.\n"
     ]
    },
    {
     "name": "stderr",
     "output_type": "stream",
     "text": [
      "100%|██████████| 14/14 [00:01<00:00,  8.78it/s]\n",
      "/Users/sasha/Desktop/Fall 2024/COS Junior IW/Blunder-Analysis/testing/testingFunctions.py:66: UserWarning: Creating a tensor from a list of numpy.ndarrays is extremely slow. Please consider converting the list to a single numpy.ndarray with numpy.array() before converting to a tensor. (Triggered internally at /Users/runner/work/pytorch/pytorch/pytorch/torch/csrc/utils/tensor_new.cpp:281.)\n",
      "  torch.tensor(all_probs),\n"
     ]
    },
    {
     "name": "stdout",
     "output_type": "stream",
     "text": [
      "K: Accuracy: 0.2634 | Normalized Brier Score: 7.0311 | Cross-Entropy Loss: 1.7315\n",
      "Q: Accuracy: 0.3015 | Normalized Brier Score: 7.3461 | Cross-Entropy Loss: 1.7315\n",
      "R: Accuracy: 0.3601 | Normalized Brier Score: 6.9994 | Cross-Entropy Loss: 1.7315\n",
      "B: Accuracy: 0.2757 | Normalized Brier Score: 7.7525 | Cross-Entropy Loss: 1.7315\n",
      "N: Accuracy: 0.2758 | Normalized Brier Score: 7.6241 | Cross-Entropy Loss: 1.7315\n",
      "P: Accuracy: 0.2702 | Normalized Brier Score: 8.1732 | Cross-Entropy Loss: 1.7315\n",
      "\n",
      "Total Accuracy: 0.2960\n",
      "Weighted Accuracy: 0.2960\n"
     ]
    },
    {
     "data": {
      "image/png": "[encoded data removed]",
      "text/plain": [
       "<Figure size 1200x600 with 1 Axes>"
      ]
     },
     "metadata": {},
     "output_type": "display_data"
    },
    {
     "name": "stdout",
     "output_type": "stream",
     "text": [
      "\n",
      "Overall Metrics Summary:\n",
      "  Piece Type  Accuracy  ...  Normalized Brier Score  Number of Samples\n",
      "0          K  0.263383  ...                7.031081                467\n",
      "1          Q  0.301459  ...                7.346128                617\n",
      "2          R  0.360104  ...                6.999445                772\n",
      "3          B  0.275654  ...                7.752532                497\n",
      "4          N  0.275797  ...                7.624081                533\n",
      "5          P  0.270229  ...                8.173210                655\n",
      "\n",
      "[6 rows x 7 columns]\n"
     ]
    }
   ],
   "source": [
    "from generating_data.generate_loaders import (\n",
    "    create_Tang_multi_loaders,\n",
    "    create_GM_test_multi_loaders\n",
    "    )\n",
    "import torch\n",
    "from models.MLPs import flexMLP\n",
    "from models.multiClassTrainer import multiTrainer\n",
    "from testing.testingFunctions import evaluate_per_piece_metrics\n",
    "\n",
    "Tang_train_loader, Tang_val_loader, Tang_test_loader = create_Tang_multi_loaders('data/pkl/blunders/Tang_blunders.pkl')\n",
    "model = flexMLP(hidden_sizes=[128,64,32], num_affine_layers=3)\n",
    "trainer = multiTrainer(net=model, train_loader=Tang_train_loader, val_loader=Tang_val_loader)\n",
    "\n",
    "import torch.nn as nn\n",
    "completed_model, best_model, train_losses, val_losses, train_acc, val_acc = trainer.train(\n",
    "    optim_name='adamw',\n",
    "    loss_function=nn.CrossEntropyLoss(),\n",
    "    num_epochs=30,\n",
    "    learning_rate=0.005,\n",
    "    momentum=0.99,\n",
    "    acc_frequency=1,\n",
    "    verbose=True\n",
    ")\n",
    "\n",
    "device = torch.device(\"mps\" if torch.backends.mps.is_available() else \"cpu\")\n",
    "\n",
    "train_name = 'Tang blunders'\n",
    "test_name = 'Tang blunders'\n",
    "\n",
    "df_metrics = evaluate_per_piece_metrics(model, Tang_test_loader, 'Tang', device, train_name=train_name, test_name=test_name, model_name='MLP')"
   ]
  }
 ],
 "metadata": {
  "kernelspec": {
   "display_name": "cos333",
   "language": "python",
   "name": "python3"
  },
  "language_info": {
   "codemirror_mode": {
    "name": "ipython",
    "version": 3
   },
   "file_extension": ".py",
   "mimetype": "text/x-python",
   "name": "python",
   "nbconvert_exporter": "python",
   "pygments_lexer": "ipython3",
   "version": "3.12.6"
  }
 },
 "nbformat": 4,
 "nbformat_minor": 2
}
