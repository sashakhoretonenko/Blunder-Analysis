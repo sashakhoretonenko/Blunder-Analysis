{
 "cells": [
  {
   "cell_type": "code",
   "execution_count": 1,
   "metadata": {},
   "outputs": [
    {
     "name": "stderr",
     "output_type": "stream",
     "text": [
      "100%|██████████| 288/288 [00:10<00:00, 26.19it/s]\n"
     ]
    },
    {
     "name": "stdout",
     "output_type": "stream",
     "text": [
      "New best model saved at epoch 1\n",
      "Epoch 1/30: Train Loss = 1.0483, Train Acc = 0.5838, Val Loss = 0.8945, Val Acc = 0.6565\n"
     ]
    },
    {
     "name": "stderr",
     "output_type": "stream",
     "text": [
      "100%|██████████| 288/288 [00:10<00:00, 27.92it/s]\n"
     ]
    },
    {
     "name": "stdout",
     "output_type": "stream",
     "text": [
      "New best model saved at epoch 2\n",
      "Epoch 2/30: Train Loss = 0.8452, Train Acc = 0.6785, Val Loss = 0.8192, Val Acc = 0.6946\n"
     ]
    },
    {
     "name": "stderr",
     "output_type": "stream",
     "text": [
      "100%|██████████| 288/288 [00:10<00:00, 28.22it/s]\n"
     ]
    },
    {
     "name": "stdout",
     "output_type": "stream",
     "text": [
      "New best model saved at epoch 3\n",
      "Epoch 3/30: Train Loss = 0.7827, Train Acc = 0.7035, Val Loss = 0.7946, Val Acc = 0.7002\n"
     ]
    },
    {
     "name": "stderr",
     "output_type": "stream",
     "text": [
      "100%|██████████| 288/288 [00:10<00:00, 28.17it/s]\n"
     ]
    },
    {
     "name": "stdout",
     "output_type": "stream",
     "text": [
      "New best model saved at epoch 4\n",
      "Epoch 4/30: Train Loss = 0.7419, Train Acc = 0.7193, Val Loss = 0.7850, Val Acc = 0.7054\n"
     ]
    },
    {
     "name": "stderr",
     "output_type": "stream",
     "text": [
      "100%|██████████| 288/288 [00:11<00:00, 25.10it/s]\n"
     ]
    },
    {
     "name": "stdout",
     "output_type": "stream",
     "text": [
      "New best model saved at epoch 5\n",
      "Epoch 5/30: Train Loss = 0.7106, Train Acc = 0.7309, Val Loss = 0.7685, Val Acc = 0.7135\n"
     ]
    },
    {
     "name": "stderr",
     "output_type": "stream",
     "text": [
      "100%|██████████| 288/288 [00:12<00:00, 23.44it/s]\n"
     ]
    },
    {
     "name": "stdout",
     "output_type": "stream",
     "text": [
      "New best model saved at epoch 6\n",
      "Epoch 6/30: Train Loss = 0.6813, Train Acc = 0.7413, Val Loss = 0.7642, Val Acc = 0.7149\n"
     ]
    },
    {
     "name": "stderr",
     "output_type": "stream",
     "text": [
      "100%|██████████| 288/288 [00:10<00:00, 26.40it/s]\n"
     ]
    },
    {
     "name": "stdout",
     "output_type": "stream",
     "text": [
      "New best model saved at epoch 7\n",
      "Epoch 7/30: Train Loss = 0.6625, Train Acc = 0.7496, Val Loss = 0.7495, Val Acc = 0.7256\n"
     ]
    },
    {
     "name": "stderr",
     "output_type": "stream",
     "text": [
      "100%|██████████| 288/288 [00:11<00:00, 25.34it/s]\n"
     ]
    },
    {
     "name": "stdout",
     "output_type": "stream",
     "text": [
      "New best model saved at epoch 8\n",
      "Epoch 8/30: Train Loss = 0.6429, Train Acc = 0.7578, Val Loss = 0.7525, Val Acc = 0.7221\n"
     ]
    },
    {
     "name": "stderr",
     "output_type": "stream",
     "text": [
      "100%|██████████| 288/288 [00:11<00:00, 24.78it/s]\n"
     ]
    },
    {
     "name": "stdout",
     "output_type": "stream",
     "text": [
      "New best model saved at epoch 9\n",
      "Epoch 9/30: Train Loss = 0.6248, Train Acc = 0.7657, Val Loss = 0.7578, Val Acc = 0.7183\n"
     ]
    },
    {
     "name": "stderr",
     "output_type": "stream",
     "text": [
      "100%|██████████| 288/288 [00:11<00:00, 24.26it/s]\n"
     ]
    },
    {
     "name": "stdout",
     "output_type": "stream",
     "text": [
      "New best model saved at epoch 10\n",
      "Epoch 10/30: Train Loss = 0.6116, Train Acc = 0.7709, Val Loss = 0.7542, Val Acc = 0.7291\n"
     ]
    },
    {
     "name": "stderr",
     "output_type": "stream",
     "text": [
      "100%|██████████| 288/288 [00:11<00:00, 24.27it/s]\n"
     ]
    },
    {
     "name": "stdout",
     "output_type": "stream",
     "text": [
      "New best model saved at epoch 11\n",
      "Epoch 11/30: Train Loss = 0.5970, Train Acc = 0.7756, Val Loss = 0.7519, Val Acc = 0.7301\n"
     ]
    },
    {
     "name": "stderr",
     "output_type": "stream",
     "text": [
      "100%|██████████| 288/288 [00:11<00:00, 24.44it/s]\n"
     ]
    },
    {
     "name": "stdout",
     "output_type": "stream",
     "text": [
      "New best model saved at epoch 12\n",
      "Epoch 12/30: Train Loss = 0.5847, Train Acc = 0.7803, Val Loss = 0.7643, Val Acc = 0.7280\n"
     ]
    },
    {
     "name": "stderr",
     "output_type": "stream",
     "text": [
      "100%|██████████| 288/288 [00:10<00:00, 27.59it/s]\n"
     ]
    },
    {
     "name": "stdout",
     "output_type": "stream",
     "text": [
      "New best model saved at epoch 13\n",
      "Epoch 13/30: Train Loss = 0.5749, Train Acc = 0.7836, Val Loss = 0.7665, Val Acc = 0.7296\n"
     ]
    },
    {
     "name": "stderr",
     "output_type": "stream",
     "text": [
      "100%|██████████| 288/288 [00:10<00:00, 27.49it/s]\n"
     ]
    },
    {
     "name": "stdout",
     "output_type": "stream",
     "text": [
      "New best model saved at epoch 14\n",
      "Epoch 14/30: Train Loss = 0.5660, Train Acc = 0.7874, Val Loss = 0.7586, Val Acc = 0.7306\n"
     ]
    },
    {
     "name": "stderr",
     "output_type": "stream",
     "text": [
      "100%|██████████| 288/288 [00:10<00:00, 27.58it/s]\n"
     ]
    },
    {
     "name": "stdout",
     "output_type": "stream",
     "text": [
      "New best model saved at epoch 15\n",
      "Epoch 15/30: Train Loss = 0.5573, Train Acc = 0.7907, Val Loss = 0.7741, Val Acc = 0.7252\n"
     ]
    },
    {
     "name": "stderr",
     "output_type": "stream",
     "text": [
      "100%|██████████| 288/288 [00:10<00:00, 27.69it/s]\n"
     ]
    },
    {
     "name": "stdout",
     "output_type": "stream",
     "text": [
      "New best model saved at epoch 16\n",
      "Epoch 16/30: Train Loss = 0.5463, Train Acc = 0.7953, Val Loss = 0.7675, Val Acc = 0.7372\n"
     ]
    },
    {
     "name": "stderr",
     "output_type": "stream",
     "text": [
      "100%|██████████| 288/288 [00:10<00:00, 27.69it/s]\n"
     ]
    },
    {
     "name": "stdout",
     "output_type": "stream",
     "text": [
      "New best model saved at epoch 17\n",
      "Epoch 17/30: Train Loss = 0.5389, Train Acc = 0.7976, Val Loss = 0.7674, Val Acc = 0.7298\n"
     ]
    },
    {
     "name": "stderr",
     "output_type": "stream",
     "text": [
      "100%|██████████| 288/288 [00:10<00:00, 26.50it/s]\n"
     ]
    },
    {
     "name": "stdout",
     "output_type": "stream",
     "text": [
      "New best model saved at epoch 18\n",
      "Epoch 18/30: Train Loss = 0.5325, Train Acc = 0.7996, Val Loss = 0.7628, Val Acc = 0.7339\n"
     ]
    },
    {
     "name": "stderr",
     "output_type": "stream",
     "text": [
      "100%|██████████| 288/288 [00:14<00:00, 19.36it/s]\n"
     ]
    },
    {
     "name": "stdout",
     "output_type": "stream",
     "text": [
      "New best model saved at epoch 19\n",
      "Epoch 19/30: Train Loss = 0.5243, Train Acc = 0.8049, Val Loss = 0.7779, Val Acc = 0.7342\n"
     ]
    },
    {
     "name": "stderr",
     "output_type": "stream",
     "text": [
      "100%|██████████| 288/288 [00:10<00:00, 26.77it/s]\n"
     ]
    },
    {
     "name": "stdout",
     "output_type": "stream",
     "text": [
      "New best model saved at epoch 20\n",
      "Epoch 20/30: Train Loss = 0.5191, Train Acc = 0.8059, Val Loss = 0.7721, Val Acc = 0.7338\n"
     ]
    },
    {
     "name": "stderr",
     "output_type": "stream",
     "text": [
      "100%|██████████| 288/288 [00:13<00:00, 21.82it/s]\n"
     ]
    },
    {
     "name": "stdout",
     "output_type": "stream",
     "text": [
      "New best model saved at epoch 21\n",
      "Epoch 21/30: Train Loss = 0.5119, Train Acc = 0.8095, Val Loss = 0.7775, Val Acc = 0.7355\n"
     ]
    },
    {
     "name": "stderr",
     "output_type": "stream",
     "text": [
      "100%|██████████| 288/288 [00:10<00:00, 27.35it/s]\n"
     ]
    },
    {
     "name": "stdout",
     "output_type": "stream",
     "text": [
      "New best model saved at epoch 22\n",
      "Epoch 22/30: Train Loss = 0.5044, Train Acc = 0.8113, Val Loss = 0.7806, Val Acc = 0.7335\n"
     ]
    },
    {
     "name": "stderr",
     "output_type": "stream",
     "text": [
      "100%|██████████| 288/288 [00:11<00:00, 24.26it/s]\n"
     ]
    },
    {
     "name": "stdout",
     "output_type": "stream",
     "text": [
      "New best model saved at epoch 23\n",
      "Epoch 23/30: Train Loss = 0.5001, Train Acc = 0.8143, Val Loss = 0.7744, Val Acc = 0.7367\n"
     ]
    },
    {
     "name": "stderr",
     "output_type": "stream",
     "text": [
      "100%|██████████| 288/288 [00:11<00:00, 24.45it/s]\n"
     ]
    },
    {
     "name": "stdout",
     "output_type": "stream",
     "text": [
      "New best model saved at epoch 24\n",
      "Epoch 24/30: Train Loss = 0.4953, Train Acc = 0.8158, Val Loss = 0.7784, Val Acc = 0.7352\n"
     ]
    },
    {
     "name": "stderr",
     "output_type": "stream",
     "text": [
      "100%|██████████| 288/288 [00:10<00:00, 26.38it/s]\n"
     ]
    },
    {
     "name": "stdout",
     "output_type": "stream",
     "text": [
      "New best model saved at epoch 25\n",
      "Epoch 25/30: Train Loss = 0.4892, Train Acc = 0.8166, Val Loss = 0.7861, Val Acc = 0.7371\n"
     ]
    },
    {
     "name": "stderr",
     "output_type": "stream",
     "text": [
      "100%|██████████| 288/288 [00:10<00:00, 27.61it/s]\n"
     ]
    },
    {
     "name": "stdout",
     "output_type": "stream",
     "text": [
      "New best model saved at epoch 26\n",
      "Epoch 26/30: Train Loss = 0.4848, Train Acc = 0.8199, Val Loss = 0.7908, Val Acc = 0.7364\n"
     ]
    },
    {
     "name": "stderr",
     "output_type": "stream",
     "text": [
      "100%|██████████| 288/288 [00:10<00:00, 27.65it/s]\n"
     ]
    },
    {
     "name": "stdout",
     "output_type": "stream",
     "text": [
      "New best model saved at epoch 27\n",
      "Epoch 27/30: Train Loss = 0.4806, Train Acc = 0.8228, Val Loss = 0.7895, Val Acc = 0.7351\n"
     ]
    },
    {
     "name": "stderr",
     "output_type": "stream",
     "text": [
      "100%|██████████| 288/288 [00:10<00:00, 27.73it/s]\n"
     ]
    },
    {
     "name": "stdout",
     "output_type": "stream",
     "text": [
      "New best model saved at epoch 28\n",
      "Epoch 28/30: Train Loss = 0.4784, Train Acc = 0.8225, Val Loss = 0.7889, Val Acc = 0.7376\n"
     ]
    },
    {
     "name": "stderr",
     "output_type": "stream",
     "text": [
      "100%|██████████| 288/288 [00:10<00:00, 27.75it/s]\n"
     ]
    },
    {
     "name": "stdout",
     "output_type": "stream",
     "text": [
      "New best model saved at epoch 29\n",
      "Epoch 29/30: Train Loss = 0.4731, Train Acc = 0.8246, Val Loss = 0.7949, Val Acc = 0.7372\n"
     ]
    },
    {
     "name": "stderr",
     "output_type": "stream",
     "text": [
      "100%|██████████| 288/288 [00:10<00:00, 28.03it/s]\n"
     ]
    },
    {
     "name": "stdout",
     "output_type": "stream",
     "text": [
      "New best model saved at epoch 30\n",
      "Epoch 30/30: Train Loss = 0.4689, Train Acc = 0.8271, Val Loss = 0.7929, Val Acc = 0.7379\n",
      "\n",
      "Training completed! Best Validation Accuracy: 0.7379\n",
      "\n",
      "The best model is the final model.\n"
     ]
    }
   ],
   "source": [
    "from generating_data.generate_loaders import (\n",
    "    create_Tang_multi_loaders,\n",
    "    create_GM_test_multi_loaders\n",
    "    )\n",
    "from models.CNNs import flexCNN\n",
    "from models.multiClassTrainer import multiTrainer\n",
    "\n",
    "Tang_train_loader, Tang_val_loader, Tang_test_loader = create_Tang_multi_loaders('data/move_splits_pkl/opening_moves/Tang_opening_moves.pkl')\n",
    "opening_model =flexCNN(conv_layers=2, aff_layers=1, kernel_sizes=[3,3])\n",
    "trainer = multiTrainer(net=opening_model, train_loader=Tang_train_loader, val_loader=Tang_val_loader)\n",
    "\n",
    "import torch.nn as nn\n",
    "completed_model, best_model, train_losses, val_losses, train_acc, val_acc = trainer.train(\n",
    "    optim_name='adamw',\n",
    "    loss_function=nn.CrossEntropyLoss(),\n",
    "    num_epochs=30,\n",
    "    learning_rate=0.005,\n",
    "    momentum=0.99,\n",
    "    acc_frequency=1,\n",
    "    verbose=True\n",
    ")"
   ]
  },
  {
   "cell_type": "code",
   "execution_count": null,
   "metadata": {},
   "outputs": [
    {
     "ename": "FileNotFoundError",
     "evalue": "[Errno 2] No such file or directory: 'data/pkl/moves/penguingm1_moves.pkl'",
     "output_type": "error",
     "traceback": [
      "\u001b[0;31m---------------------------------------------------------------------------\u001b[0m",
      "\u001b[0;31mFileNotFoundError\u001b[0m                         Traceback (most recent call last)",
      "Cell \u001b[0;32mIn[3], line 32\u001b[0m\n\u001b[1;32m     17\u001b[0m players_list \u001b[38;5;241m=\u001b[39m [\n\u001b[1;32m     18\u001b[0m     \u001b[38;5;124m'\u001b[39m\u001b[38;5;124mTang\u001b[39m\u001b[38;5;124m'\u001b[39m,\n\u001b[1;32m     19\u001b[0m     \u001b[38;5;124m'\u001b[39m\u001b[38;5;124mS.L. Narayanan\u001b[39m\u001b[38;5;124m'\u001b[39m,\n\u001b[0;32m   (...)\u001b[0m\n\u001b[1;32m     28\u001b[0m     \u001b[38;5;124m'\u001b[39m\u001b[38;5;124mSergei Zhigalko\u001b[39m\u001b[38;5;124m'\u001b[39m\n\u001b[1;32m     29\u001b[0m     ]\n\u001b[1;32m     31\u001b[0m \u001b[38;5;28;01mfor\u001b[39;00m alias, player \u001b[38;5;129;01min\u001b[39;00m \u001b[38;5;28mzip\u001b[39m(players_alias, players_list):\n\u001b[0;32m---> 32\u001b[0m     GM_test_loader \u001b[38;5;241m=\u001b[39m \u001b[43mcreate_GM_test_multi_loaders\u001b[49m\u001b[43m(\u001b[49m\u001b[38;5;124;43mf\u001b[39;49m\u001b[38;5;124;43m'\u001b[39;49m\u001b[38;5;124;43mdata/pkl/moves/\u001b[39;49m\u001b[38;5;132;43;01m{\u001b[39;49;00m\u001b[43malias\u001b[49m\u001b[38;5;132;43;01m}\u001b[39;49;00m\u001b[38;5;124;43m_moves.pkl\u001b[39;49m\u001b[38;5;124;43m'\u001b[39;49m\u001b[43m)\u001b[49m\n\u001b[1;32m     33\u001b[0m     device \u001b[38;5;241m=\u001b[39m \u001b[38;5;124m\"\u001b[39m\u001b[38;5;124mcpu\u001b[39m\u001b[38;5;124m\"\u001b[39m\n\u001b[1;32m     35\u001b[0m     train_name \u001b[38;5;241m=\u001b[39m \u001b[38;5;124mf\u001b[39m\u001b[38;5;124m'\u001b[39m\u001b[38;5;124mTang opening moves\u001b[39m\u001b[38;5;124m'\u001b[39m\n",
      "File \u001b[0;32m~/Desktop/Fall 2024/COS Junior IW/Blunder-Analysis/generating_data/generate_loaders.py:262\u001b[0m, in \u001b[0;36mcreate_GM_test_multi_loaders\u001b[0;34m(pkl_file, batch_size)\u001b[0m\n\u001b[1;32m    261\u001b[0m \u001b[38;5;28;01mdef\u001b[39;00m \u001b[38;5;21mcreate_GM_test_multi_loaders\u001b[39m(pkl_file, batch_size\u001b[38;5;241m=\u001b[39m\u001b[38;5;241m256\u001b[39m):\n\u001b[0;32m--> 262\u001b[0m     GM_df \u001b[38;5;241m=\u001b[39m \u001b[43mpd\u001b[49m\u001b[38;5;241;43m.\u001b[39;49m\u001b[43mread_pickle\u001b[49m\u001b[43m(\u001b[49m\u001b[43mpkl_file\u001b[49m\u001b[43m)\u001b[49m\n\u001b[1;32m    263\u001b[0m     test_dataset \u001b[38;5;241m=\u001b[39m multiDataset(GM_df)\n\u001b[1;32m    264\u001b[0m     test_loader \u001b[38;5;241m=\u001b[39m DataLoader(test_dataset, batch_size\u001b[38;5;241m=\u001b[39mbatch_size, shuffle\u001b[38;5;241m=\u001b[39m\u001b[38;5;28;01mTrue\u001b[39;00m)\n",
      "File \u001b[0;32m~/.virtualenvs/cos333/lib/python3.12/site-packages/pandas/io/pickle.py:185\u001b[0m, in \u001b[0;36mread_pickle\u001b[0;34m(filepath_or_buffer, compression, storage_options)\u001b[0m\n\u001b[1;32m    123\u001b[0m \u001b[38;5;250m\u001b[39m\u001b[38;5;124;03m\"\"\"\u001b[39;00m\n\u001b[1;32m    124\u001b[0m \u001b[38;5;124;03mLoad pickled pandas object (or any object) from file.\u001b[39;00m\n\u001b[1;32m    125\u001b[0m \n\u001b[0;32m   (...)\u001b[0m\n\u001b[1;32m    182\u001b[0m \u001b[38;5;124;03m4    4    9\u001b[39;00m\n\u001b[1;32m    183\u001b[0m \u001b[38;5;124;03m\"\"\"\u001b[39;00m\n\u001b[1;32m    184\u001b[0m excs_to_catch \u001b[38;5;241m=\u001b[39m (\u001b[38;5;167;01mAttributeError\u001b[39;00m, \u001b[38;5;167;01mImportError\u001b[39;00m, \u001b[38;5;167;01mModuleNotFoundError\u001b[39;00m, \u001b[38;5;167;01mTypeError\u001b[39;00m)\n\u001b[0;32m--> 185\u001b[0m \u001b[38;5;28;01mwith\u001b[39;00m \u001b[43mget_handle\u001b[49m\u001b[43m(\u001b[49m\n\u001b[1;32m    186\u001b[0m \u001b[43m    \u001b[49m\u001b[43mfilepath_or_buffer\u001b[49m\u001b[43m,\u001b[49m\n\u001b[1;32m    187\u001b[0m \u001b[43m    \u001b[49m\u001b[38;5;124;43m\"\u001b[39;49m\u001b[38;5;124;43mrb\u001b[39;49m\u001b[38;5;124;43m\"\u001b[39;49m\u001b[43m,\u001b[49m\n\u001b[1;32m    188\u001b[0m \u001b[43m    \u001b[49m\u001b[43mcompression\u001b[49m\u001b[38;5;241;43m=\u001b[39;49m\u001b[43mcompression\u001b[49m\u001b[43m,\u001b[49m\n\u001b[1;32m    189\u001b[0m \u001b[43m    \u001b[49m\u001b[43mis_text\u001b[49m\u001b[38;5;241;43m=\u001b[39;49m\u001b[38;5;28;43;01mFalse\u001b[39;49;00m\u001b[43m,\u001b[49m\n\u001b[1;32m    190\u001b[0m \u001b[43m    \u001b[49m\u001b[43mstorage_options\u001b[49m\u001b[38;5;241;43m=\u001b[39;49m\u001b[43mstorage_options\u001b[49m\u001b[43m,\u001b[49m\n\u001b[1;32m    191\u001b[0m \u001b[43m\u001b[49m\u001b[43m)\u001b[49m \u001b[38;5;28;01mas\u001b[39;00m handles:\n\u001b[1;32m    192\u001b[0m     \u001b[38;5;66;03m# 1) try standard library Pickle\u001b[39;00m\n\u001b[1;32m    193\u001b[0m     \u001b[38;5;66;03m# 2) try pickle_compat (older pandas version) to handle subclass changes\u001b[39;00m\n\u001b[1;32m    194\u001b[0m     \u001b[38;5;66;03m# 3) try pickle_compat with latin-1 encoding upon a UnicodeDecodeError\u001b[39;00m\n\u001b[1;32m    196\u001b[0m     \u001b[38;5;28;01mtry\u001b[39;00m:\n\u001b[1;32m    197\u001b[0m         \u001b[38;5;66;03m# TypeError for Cython complaints about object.__new__ vs Tick.__new__\u001b[39;00m\n\u001b[1;32m    198\u001b[0m         \u001b[38;5;28;01mtry\u001b[39;00m:\n",
      "File \u001b[0;32m~/.virtualenvs/cos333/lib/python3.12/site-packages/pandas/io/common.py:882\u001b[0m, in \u001b[0;36mget_handle\u001b[0;34m(path_or_buf, mode, encoding, compression, memory_map, is_text, errors, storage_options)\u001b[0m\n\u001b[1;32m    873\u001b[0m         handle \u001b[38;5;241m=\u001b[39m \u001b[38;5;28mopen\u001b[39m(\n\u001b[1;32m    874\u001b[0m             handle,\n\u001b[1;32m    875\u001b[0m             ioargs\u001b[38;5;241m.\u001b[39mmode,\n\u001b[0;32m   (...)\u001b[0m\n\u001b[1;32m    878\u001b[0m             newline\u001b[38;5;241m=\u001b[39m\u001b[38;5;124m\"\u001b[39m\u001b[38;5;124m\"\u001b[39m,\n\u001b[1;32m    879\u001b[0m         )\n\u001b[1;32m    880\u001b[0m     \u001b[38;5;28;01melse\u001b[39;00m:\n\u001b[1;32m    881\u001b[0m         \u001b[38;5;66;03m# Binary mode\u001b[39;00m\n\u001b[0;32m--> 882\u001b[0m         handle \u001b[38;5;241m=\u001b[39m \u001b[38;5;28;43mopen\u001b[39;49m\u001b[43m(\u001b[49m\u001b[43mhandle\u001b[49m\u001b[43m,\u001b[49m\u001b[43m \u001b[49m\u001b[43mioargs\u001b[49m\u001b[38;5;241;43m.\u001b[39;49m\u001b[43mmode\u001b[49m\u001b[43m)\u001b[49m\n\u001b[1;32m    883\u001b[0m     handles\u001b[38;5;241m.\u001b[39mappend(handle)\n\u001b[1;32m    885\u001b[0m \u001b[38;5;66;03m# Convert BytesIO or file objects passed with an encoding\u001b[39;00m\n",
      "\u001b[0;31mFileNotFoundError\u001b[0m: [Errno 2] No such file or directory: 'data/pkl/moves/penguingm1_moves.pkl'"
     ]
    }
   ],
   "source": [
    "from testing.testingFunctions import evaluate_per_piece_metrics\n",
    "import torch\n",
    "players_alias = [\n",
    "    'Tang',\n",
    "    'wizard98',\n",
    "    'nihalsarin2004',\n",
    "    'mishka_the_great',\n",
    "    'ediz_gurel',\n",
    "    'rebeccaharris',\n",
    "    'meneermandje',\n",
    "    'night-king96',\n",
    "    'muisback',\n",
    "    'vincentkeymer2004',\n",
    "    'zhigalko_sergei'\n",
    "]\n",
    "\n",
    "players_list = [\n",
    "    'Tang',\n",
    "    'S.L. Narayanan',\n",
    "    'Nihal Sarin',\n",
    "    'Mieszko Miś',\n",
    "    'Ediz Gurel',\n",
    "    'Daniel Naroditsky',\n",
    "    'Thomas Beerdsen',\n",
    "    'Oleksandr Bortnyk',\n",
    "    'Rauf Mamedov',\n",
    "    'Vincent Keymer',\n",
    "    'Sergei Zhigalko'\n",
    "    ]\n",
    "\n",
    "for alias, player in zip(players_alias, players_list):\n",
    "    GM_test_loader = create_GM_test_multi_loaders(f'data/pkl/moves/{alias}_moves.pkl')\n",
    "    device = \"cpu\"\n",
    "\n",
    "    train_name = f'Tang opening moves'\n",
    "    test_name = f'{player} opening moves'\n",
    "\n",
    "    df_metrics = evaluate_per_piece_metrics(opening_model, GM_test_loader, player, device, train_name=train_name, test_name=test_name, model_name='CNN')"
   ]
  }
 ],
 "metadata": {
  "kernelspec": {
   "display_name": "cos333",
   "language": "python",
   "name": "python3"
  },
  "language_info": {
   "codemirror_mode": {
    "name": "ipython",
    "version": 3
   },
   "file_extension": ".py",
   "mimetype": "text/x-python",
   "name": "python",
   "nbconvert_exporter": "python",
   "pygments_lexer": "ipython3",
   "version": "3.12.6"
  }
 },
 "nbformat": 4,
 "nbformat_minor": 2
}
